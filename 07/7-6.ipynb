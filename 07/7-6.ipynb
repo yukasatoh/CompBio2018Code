{
 "cells": [
  {
   "cell_type": "code",
   "execution_count": 1,
   "metadata": {},
   "outputs": [
    {
     "name": "stdout",
     "output_type": "stream",
     "text": [
      "[1, 2.0, '3rd', '四番目', ['b1', 'b2']]\n"
     ]
    }
   ],
   "source": [
    "a=[]\n",
    "b=[]\n",
    "a.append(1)\n",
    "a.append(2.0)\n",
    "a.append(\"3rd\")\n",
    "a.append(\"四番目\")\n",
    "b.append(\"b1\")\n",
    "b.append(\"b2\")\n",
    "a.append(b)\n",
    "print(a)"
   ]
  },
  {
   "cell_type": "code",
   "execution_count": null,
   "metadata": {},
   "outputs": [],
   "source": []
  }
 ],
 "metadata": {
  "kernelspec": {
   "display_name": "Python 3",
   "language": "python",
   "name": "python3"
  },
  "language_info": {
   "codemirror_mode": {
    "name": "ipython",
    "version": 3
   },
   "file_extension": ".py",
   "mimetype": "text/x-python",
   "name": "python",
   "nbconvert_exporter": "python",
   "pygments_lexer": "ipython3",
   "version": "3.6.5"
  }
 },
 "nbformat": 4,
 "nbformat_minor": 2
}
