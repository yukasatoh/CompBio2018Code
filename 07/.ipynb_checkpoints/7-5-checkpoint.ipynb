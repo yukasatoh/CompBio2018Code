{
 "cells": [
  {
   "cell_type": "code",
   "execution_count": 1,
   "metadata": {},
   "outputs": [
    {
     "name": "stdout",
     "output_type": "stream",
     "text": [
      "３の倍数\n",
      "余り１\n",
      "\n",
      "３の倍数\n",
      "余り１\n",
      "\n",
      "３の倍数\n",
      "余り１\n",
      "\n",
      "３の倍数\n",
      "余り１\n",
      "\n",
      "３の倍数\n",
      "余り１\n",
      "\n",
      "３の倍数\n",
      "余り１\n",
      "\n",
      "３の倍数\n",
      "余り１\n",
      "\n",
      "３の倍数\n",
      "余り１\n",
      "\n",
      "３の倍数\n",
      "余り１\n",
      "\n",
      "３の倍数\n",
      "余り１\n",
      "\n",
      "３の倍数\n",
      "余り１\n",
      "\n",
      "３の倍数\n",
      "余り１\n",
      "\n",
      "３の倍数\n",
      "余り１\n",
      "\n",
      "３の倍数\n",
      "余り１\n",
      "\n",
      "３の倍数\n",
      "余り１\n",
      "\n",
      "３の倍数\n",
      "余り１\n",
      "\n",
      "３の倍数\n",
      "余り１\n"
     ]
    }
   ],
   "source": [
    "for i in range(50):\n",
    "    if i%3==0:\n",
    "        print(\"３の倍数\")\n",
    "    elif i%3==1:\n",
    "        print(\"余り１\")\n",
    "    else:\n",
    "        print(\"\")"
   ]
  },
  {
   "cell_type": "code",
   "execution_count": null,
   "metadata": {},
   "outputs": [],
   "source": []
  }
 ],
 "metadata": {
  "kernelspec": {
   "display_name": "Python 3",
   "language": "python",
   "name": "python3"
  },
  "language_info": {
   "codemirror_mode": {
    "name": "ipython",
    "version": 3
   },
   "file_extension": ".py",
   "mimetype": "text/x-python",
   "name": "python",
   "nbconvert_exporter": "python",
   "pygments_lexer": "ipython3",
   "version": "3.6.5"
  }
 },
 "nbformat": 4,
 "nbformat_minor": 2
}
